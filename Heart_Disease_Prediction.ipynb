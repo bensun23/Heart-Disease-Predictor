{
 "cells": [
  {
   "cell_type": "code",
   "execution_count": null,
   "id": "4211d8eb",
   "metadata": {},
   "outputs": [],
   "source": [
    "# 💓 Heart Disease Prediction - Full Jupyter Notebook"
   ]
  },
  {
   "cell_type": "code",
   "execution_count": null,
   "id": "92109cdc",
   "metadata": {},
   "outputs": [],
   "source": [
    "## Step 1: Install Required Libraries\n",
    "!pip install pandas scikit-learn joblib"
   ]
  },
  {
   "cell_type": "code",
   "execution_count": null,
   "id": "a26a7c7b",
   "metadata": {},
   "outputs": [],
   "source": [
    "## Step 2: Import Libraries\n",
    "import pandas as pd\n",
    "from sklearn.model_selection import train_test_split\n",
    "from sklearn.ensemble import RandomForestClassifier\n",
    "from sklearn.metrics import classification_report, confusion_matrix\n",
    "import joblib"
   ]
  },
  {
   "cell_type": "code",
   "execution_count": null,
   "id": "bf6e9db4",
   "metadata": {},
   "outputs": [],
   "source": [
    "## Step 3: Load the Dataset\n",
    "# Make sure heart.csv is in the same folder as this notebook\n",
    "df = pd.read_csv(\"heart.csv\")\n",
    "df.head()"
   ]
  },
  {
   "cell_type": "code",
   "execution_count": null,
   "id": "8b257dc7",
   "metadata": {},
   "outputs": [],
   "source": [
    "## Step 4: Split into Features and Target\n",
    "X = df.drop(\"target\", axis=1)\n",
    "y = df[\"target\"]"
   ]
  },
  {
   "cell_type": "code",
   "execution_count": null,
   "id": "bc990ecc",
   "metadata": {},
   "outputs": [],
   "source": [
    "## Step 5: Train/Test Split\n",
    "X_train, X_test, y_train, y_test = train_test_split(X, y, test_size=0.2, random_state=42)"
   ]
  },
  {
   "cell_type": "code",
   "execution_count": null,
   "id": "f2e5c716",
   "metadata": {},
   "outputs": [],
   "source": [
    "## Step 6: Train the Random Forest Model\n",
    "model = RandomForestClassifier(n_estimators=100, random_state=42)\n",
    "model.fit(X_train, y_train)"
   ]
  },
  {
   "cell_type": "code",
   "execution_count": null,
   "id": "f8ec78f9",
   "metadata": {},
   "outputs": [],
   "source": [
    "## Step 7: Evaluate the Model\n",
    "y_pred = model.predict(X_test)\n",
    "print(\"Confusion Matrix:\\n\", confusion_matrix(y_test, y_pred))\n",
    "print(\"\\nClassification Report:\\n\", classification_report(y_test, y_pred))"
   ]
  },
  {
   "cell_type": "code",
   "execution_count": null,
   "id": "f4e8f712",
   "metadata": {},
   "outputs": [],
   "source": [
    "## Step 8: Save the Model\n",
    "joblib.dump(model, \"heart_disease_model.pkl\")\n",
    "print(\"✅ Model saved as 'heart_disease_model.pkl'\")"
   ]
  },
  {
   "cell_type": "code",
   "execution_count": null,
   "id": "8b73d01b",
   "metadata": {},
   "outputs": [],
   "source": [
    "## Step 9: Predict Using Custom Input\n",
    "# Example input (change values to test)\n",
    "input_dict = {\n",
    "    'age': [45],\n",
    "    'sex': [0],\n",
    "    'cp': [1],\n",
    "    'trestbps': [130],\n",
    "    'chol': [220],\n",
    "    'fbs': [0],\n",
    "    'restecg': [0],\n",
    "    'thalach': [180],\n",
    "    'exang': [0],\n",
    "    'oldpeak': [0.0],\n",
    "    'slope': [2],\n",
    "    'ca': [0],\n",
    "    'thal': [1]\n",
    "}"
   ]
  },
  {
   "cell_type": "code",
   "execution_count": null,
   "id": "5806a46d",
   "metadata": {},
   "outputs": [],
   "source": [
    "input_df = pd.DataFrame(input_dict)\n",
    "prediction = model.predict(input_df)[0]"
   ]
  },
  {
   "cell_type": "code",
   "execution_count": null,
   "id": "a3a23336",
   "metadata": {},
   "outputs": [],
   "source": [
    "if prediction == 1:\n",
    "    print(\"❗ High Risk of Heart Disease! Please consult a cardiologist.\")\n",
    "else:\n",
    "    print(\"✅ Low Risk of Heart Disease. Stay healthy!\")"
   ]
  },
  {
   "cell_type": "code",
   "execution_count": null,
   "id": "53edb530-ae7a-448b-9498-2193429a08d0",
   "metadata": {},
   "outputs": [],
   "source": []
  },
  {
   "cell_type": "code",
   "execution_count": null,
   "id": "445abff2-abd7-4335-a303-32597d74092a",
   "metadata": {},
   "outputs": [],
   "source": []
  }
 ],
 "metadata": {
  "kernelspec": {
   "display_name": "Python 3 (ipykernel)",
   "language": "python",
   "name": "python3"
  },
  "language_info": {
   "codemirror_mode": {
    "name": "ipython",
    "version": 3
   },
   "file_extension": ".py",
   "mimetype": "text/x-python",
   "name": "python",
   "nbconvert_exporter": "python",
   "pygments_lexer": "ipython3",
   "version": "3.12.7"
  }
 },
 "nbformat": 4,
 "nbformat_minor": 5
}
